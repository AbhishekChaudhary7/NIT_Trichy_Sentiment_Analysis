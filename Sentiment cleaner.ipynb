{
 "cells": [
  {
   "cell_type": "code",
   "execution_count": 1,
   "id": "d9778b24",
   "metadata": {},
   "outputs": [
    {
     "name": "stdout",
     "output_type": "stream",
     "text": [
      "<class 'pandas.core.frame.DataFrame'>\n",
      "RangeIndex: 225 entries, 0 to 224\n",
      "Data columns (total 2 columns):\n",
      " #   Column        Non-Null Count  Dtype \n",
      "---  ------        --------------  ----- \n",
      " 0   Review_title  225 non-null    object\n",
      " 1   Body          225 non-null    object\n",
      "dtypes: object(2)\n",
      "memory usage: 3.6+ KB\n"
     ]
    }
   ],
   "source": [
    "import pandas as pd\n",
    "df = pd.read_excel('NIT Trichy.xlsx')\n",
    "df = df.astype(str)\n",
    "df.info()"
   ]
  },
  {
   "cell_type": "code",
   "execution_count": 2,
   "id": "f6a35e30",
   "metadata": {},
   "outputs": [
    {
     "data": {
      "text/html": [
       "<div>\n",
       "<style scoped>\n",
       "    .dataframe tbody tr th:only-of-type {\n",
       "        vertical-align: middle;\n",
       "    }\n",
       "\n",
       "    .dataframe tbody tr th {\n",
       "        vertical-align: top;\n",
       "    }\n",
       "\n",
       "    .dataframe thead th {\n",
       "        text-align: right;\n",
       "    }\n",
       "</style>\n",
       "<table border=\"1\" class=\"dataframe\">\n",
       "  <thead>\n",
       "    <tr style=\"text-align: right;\">\n",
       "      <th></th>\n",
       "      <th>Review_title</th>\n",
       "      <th>Body</th>\n",
       "    </tr>\n",
       "  </thead>\n",
       "  <tbody>\n",
       "    <tr>\n",
       "      <th>0</th>\n",
       "      <td>This is the best college one could get into NITT</td>\n",
       "      <td>College Infrastructure\\nThis is 800 acres camp...</td>\n",
       "    </tr>\n",
       "    <tr>\n",
       "      <th>1</th>\n",
       "      <td>Life in Nit Trichy</td>\n",
       "      <td>College Infrastructure\\nThe infrastructure is ...</td>\n",
       "    </tr>\n",
       "    <tr>\n",
       "      <th>2</th>\n",
       "      <td>Feeling happy for getting into such a good col...</td>\n",
       "      <td>College Infrastructure\\nYes,it's hygienic and ...</td>\n",
       "    </tr>\n",
       "    <tr>\n",
       "      <th>3</th>\n",
       "      <td>The best college for all round activities</td>\n",
       "      <td>College Infrastructure\\nThe infrastructure her...</td>\n",
       "    </tr>\n",
       "    <tr>\n",
       "      <th>4</th>\n",
       "      <td>Very nice.</td>\n",
       "      <td>College Infrastructure\\nThe infrastructure of ...</td>\n",
       "    </tr>\n",
       "  </tbody>\n",
       "</table>\n",
       "</div>"
      ],
      "text/plain": [
       "                                        Review_title  \\\n",
       "0   This is the best college one could get into NITT   \n",
       "1                                 Life in Nit Trichy   \n",
       "2  Feeling happy for getting into such a good col...   \n",
       "3          The best college for all round activities   \n",
       "4                                         Very nice.   \n",
       "\n",
       "                                                Body  \n",
       "0  College Infrastructure\\nThis is 800 acres camp...  \n",
       "1  College Infrastructure\\nThe infrastructure is ...  \n",
       "2  College Infrastructure\\nYes,it's hygienic and ...  \n",
       "3  College Infrastructure\\nThe infrastructure her...  \n",
       "4  College Infrastructure\\nThe infrastructure of ...  "
      ]
     },
     "execution_count": 2,
     "metadata": {},
     "output_type": "execute_result"
    }
   ],
   "source": [
    "df.head()"
   ]
  },
  {
   "cell_type": "markdown",
   "id": "eff2b354",
   "metadata": {},
   "source": [
    "#  ------------------Cleaning the data--------------------------"
   ]
  },
  {
   "cell_type": "code",
   "execution_count": 5,
   "id": "4ff163db",
   "metadata": {},
   "outputs": [],
   "source": [
    "import re\n",
    "\n",
    "\n",
    "def CleanTxt(text):\n",
    "    text = re.sub(\"[^A-Za-z0-9]+\",\" \", text)\n",
    "\n",
    "    \n",
    "    return text\n",
    "\n",
    "df['clear r'] = df['Body'].apply(CleanTxt)"
   ]
  },
  {
   "cell_type": "markdown",
   "id": "673157f0",
   "metadata": {},
   "source": [
    "# --------------Converting to lower case-----------------"
   ]
  },
  {
   "cell_type": "code",
   "execution_count": 6,
   "id": "6504fc55",
   "metadata": {},
   "outputs": [],
   "source": [
    "def low(a):\n",
    "    return a.lower()\n",
    "\n",
    "df['clear r'] = df['clear r'].apply(low)"
   ]
  },
  {
   "cell_type": "markdown",
   "id": "23396187",
   "metadata": {},
   "source": [
    "# -------------------Tokenization-------------------------------"
   ]
  },
  {
   "cell_type": "code",
   "execution_count": 7,
   "id": "a26806e4",
   "metadata": {},
   "outputs": [
    {
     "name": "stderr",
     "output_type": "stream",
     "text": [
      "[nltk_data] Downloading package punkt to\n",
      "[nltk_data]     C:\\Users\\214220002\\AppData\\Roaming\\nltk_data...\n",
      "[nltk_data]   Package punkt is already up-to-date!\n"
     ]
    }
   ],
   "source": [
    "import nltk\n",
    "nltk.download('punkt')\n",
    "    \n",
    "from nltk.tokenize import word_tokenize\n",
    "def Tokenization(dataset):\n",
    "    Tokens = word_tokenize(dataset)\n",
    "    return Tokens\n",
    "\n",
    "df['tokens'] = df['clear r'].apply(Tokenization)"
   ]
  },
  {
   "cell_type": "markdown",
   "id": "14188b19",
   "metadata": {},
   "source": [
    "# -----------------------Stemming------------------------------"
   ]
  },
  {
   "cell_type": "code",
   "execution_count": 8,
   "id": "1459419a",
   "metadata": {},
   "outputs": [],
   "source": [
    "from nltk.stem import PorterStemmer\n",
    "from nltk.stem import LancasterStemmer\n",
    "\n",
    "pst=PorterStemmer()\n",
    "lancaster=LancasterStemmer()\n",
    "\n",
    "def stem(text):\n",
    "    rev = []\n",
    "    for word in text:\n",
    "        rev.append(pst.stem(word))\n",
    "    return rev\n",
    "    \n",
    "\n",
    "df['clean review'] = df['tokens'].apply(stem)"
   ]
  },
  {
   "cell_type": "markdown",
   "id": "9f3b8bf0",
   "metadata": {},
   "source": [
    "# ----------------Remove the Stop Words--------------------"
   ]
  },
  {
   "cell_type": "code",
   "execution_count": 9,
   "id": "63746d1b",
   "metadata": {},
   "outputs": [
    {
     "name": "stderr",
     "output_type": "stream",
     "text": [
      "[nltk_data] Downloading package stopwords to\n",
      "[nltk_data]     C:\\Users\\214220002\\AppData\\Roaming\\nltk_data...\n",
      "[nltk_data]   Package stopwords is already up-to-date!\n"
     ]
    }
   ],
   "source": [
    "import nltk.corpus\n",
    "\n",
    "nltk.download('stopwords')\n",
    "\n",
    "\n",
    "stopwords = nltk.corpus.stopwords.words('english')\n",
    "\n",
    "\n",
    "def ReStop(text):\n",
    "    filtered_sentence = []   \n",
    "    for FinalWord in text:\n",
    "     if FinalWord not in stopwords:\n",
    "        filtered_sentence.append(FinalWord) \n",
    "        \n",
    "    return filtered_sentence\n",
    "\n",
    "\n",
    "df['clean review'] = df['clean review'].apply(ReStop)"
   ]
  },
  {
   "cell_type": "markdown",
   "id": "0806b64e",
   "metadata": {},
   "source": [
    "# ----------------------Joining Tokens--------------------------"
   ]
  },
  {
   "cell_type": "code",
   "execution_count": 10,
   "id": "842815d9",
   "metadata": {},
   "outputs": [],
   "source": [
    "def join(filtered_sentence):\n",
    "   filtered_sentence = ' '.join([str(elem) for elem in filtered_sentence])\n",
    "   return filtered_sentence\n",
    "\n",
    "df['clean review'] = df['clean review'].apply(join)\n"
   ]
  },
  {
   "cell_type": "markdown",
   "id": "8539ad32",
   "metadata": {},
   "source": [
    "# -----------------Analysing Statement--------------------"
   ]
  },
  {
   "cell_type": "code",
   "execution_count": 11,
   "id": "9c73c377",
   "metadata": {},
   "outputs": [],
   "source": [
    "from textblob import TextBlob\n",
    "\n",
    "def Sub(text):\n",
    "    return TextBlob(text).sentiment.subjectivity\n",
    "\n",
    "def pol(text):\n",
    "    return TextBlob(text).sentiment.polarity\n",
    "\n",
    "\n",
    "df['Subjectivity'] = df['clean review'].apply(Sub)\n",
    "df['Polarity'] = df['clean review'].apply(pol)"
   ]
  },
  {
   "cell_type": "markdown",
   "id": "d22d021b",
   "metadata": {},
   "source": [
    "# ------------------Get ordinal sentiment score-----------"
   ]
  },
  {
   "cell_type": "code",
   "execution_count": 12,
   "id": "dde7f3ce",
   "metadata": {},
   "outputs": [],
   "source": [
    "def GetAna(score):\n",
    "    if score < 0:\n",
    "        return 'NEGATIVE'\n",
    "    elif score == 0 :\n",
    "        return 'NEUTRAL'\n",
    "    else:\n",
    "        return 'POSITIVE'\n",
    "    \n",
    "    \n",
    "df['Analysis'] = df['Polarity'].apply(GetAna)"
   ]
  },
  {
   "cell_type": "markdown",
   "id": "52bea4bd",
   "metadata": {},
   "source": [
    "# ---------------------Export data to file-------------------- "
   ]
  },
  {
   "cell_type": "code",
   "execution_count": 13,
   "id": "91f88155",
   "metadata": {},
   "outputs": [],
   "source": [
    "df = df.drop('clear r', axis = 1)\n",
    "df = df.drop('tokens', axis = 1)\n",
    "\n",
    "df.to_excel('Cleaned Review.xlsx')"
   ]
  },
  {
   "cell_type": "code",
   "execution_count": null,
   "id": "f1fe17d7",
   "metadata": {},
   "outputs": [],
   "source": []
  }
 ],
 "metadata": {
  "kernelspec": {
   "display_name": "Python 3 (ipykernel)",
   "language": "python",
   "name": "python3"
  },
  "language_info": {
   "codemirror_mode": {
    "name": "ipython",
    "version": 3
   },
   "file_extension": ".py",
   "mimetype": "text/x-python",
   "name": "python",
   "nbconvert_exporter": "python",
   "pygments_lexer": "ipython3",
   "version": "3.9.7"
  }
 },
 "nbformat": 4,
 "nbformat_minor": 5
}
