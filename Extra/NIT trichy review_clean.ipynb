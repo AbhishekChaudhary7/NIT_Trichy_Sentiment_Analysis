{
 "cells": [
  {
   "cell_type": "code",
   "execution_count": 1,
   "id": "0beb41fb",
   "metadata": {},
   "outputs": [],
   "source": [
    "#Importing libraries\n",
    "import re\n",
    "import pandas as pd\n",
    "from nltk.corpus import stopwords\n",
    "from wordcloud import WordCloud, STOPWORDS\n",
    "import spacy\n",
    "import numpy as np\n",
    "import chardet"
   ]
  },
  {
   "cell_type": "code",
   "execution_count": 4,
   "id": "46012582",
   "metadata": {},
   "outputs": [
    {
     "name": "stderr",
     "output_type": "stream",
     "text": [
      "[nltk_data] Downloading package stopwords to\n",
      "[nltk_data]     C:\\Users\\214220002\\AppData\\Roaming\\nltk_data...\n",
      "[nltk_data]   Unzipping corpora\\stopwords.zip.\n"
     ]
    },
    {
     "data": {
      "text/plain": [
       "True"
      ]
     },
     "execution_count": 4,
     "metadata": {},
     "output_type": "execute_result"
    }
   ],
   "source": [
    "import nltk\n",
    "nltk.download('stopwords')"
   ]
  },
  {
   "cell_type": "code",
   "execution_count": 6,
   "id": "42242f42",
   "metadata": {},
   "outputs": [
    {
     "name": "stderr",
     "output_type": "stream",
     "text": [
      "C:\\Users\\214220~2\\AppData\\Local\\Temp/ipykernel_78948/3173397503.py:26: FutureWarning: The default value of regex will change from True to False in a future version.\n",
      "  df['new_reviews'] = df['Body'].str.replace('[^\\w\\s]','')\n"
     ]
    }
   ],
   "source": [
    "#Load the dataset\n",
    "df = pd.read_csv('NIT Trichy.csv',encoding='utf-8')\n",
    "#UnicodeDecodeError arised.\n",
    "\n",
    "#To solve the error\n",
    "file = 'NIT Trichy.csv'\n",
    "#import chardet\n",
    "with open(file, 'rb') as rawdata:\n",
    "    result = chardet.detect(rawdata.read(100000))\n",
    "result\n",
    "\n",
    "df = pd.read_csv(file,encoding='ISO-8859-1')\n",
    "df\n",
    "\n",
    "#Check for missing rows and handling them\n",
    "df.isnull().sum() #2 rows have missing values\n",
    "df.dropna(subset=['Body'],inplace=True)\n",
    "\n",
    "#Initialize Spacy ‘en’ model\n",
    "nlp = spacy.load(\"en_core_web_sm\")\n",
    "\n",
    "#Make text lowercase\n",
    "df['new_reviews'] = df['Body'].apply(lambda x: \" \".join(x.lower() for x in x.split()))\n",
    "\n",
    "#Remove punctuation\n",
    "df['new_reviews'] = df['Body'].str.replace('[^\\w\\s]','')\n",
    "\n",
    "#Remove emojis\n",
    "def remove_emoji(text):\n",
    "    emoji_pattern = re.compile(\"[\"\n",
    "                           u\"\\U0001F600-\\U0001F64F\"  # emoticons\n",
    "                           u\"\\U0001F300-\\U0001F5FF\"  # symbols & pictographs\n",
    "                           u\"\\U0001F680-\\U0001F6FF\"  # transport & map symbols\n",
    "                           u\"\\U0001F1E0-\\U0001F1FF\"  # flags \n",
    "                           u\"\\U00002702-\\U000027B0\"\n",
    "                           u\"\\U000024C2-\\U0001F251\"\n",
    "                           \"]+\", flags=re.UNICODE)\n",
    "    return emoji_pattern.sub(r'', text)\n",
    "df['new_reviews'] = df['new_reviews'].apply(lambda x: remove_emoji(x))\n",
    "\n",
    "#Remove stopwords\n",
    "stop = stopwords.words('english')\n",
    "df['new_reviews'] = df['new_reviews'].apply(lambda x: \" \".join(x for x in x.split() if x not in stop))\n",
    "\n",
    "#Lemmatization\n",
    "def space(comment):\n",
    "    doc = nlp(comment)\n",
    "    return \" \".join([token.lemma_ for token in doc])\n",
    "df['new_reviews']= df['new_reviews'].apply(space)\n",
    "\n",
    "#Write to a csv file\n",
    "df.to_csv('NIT Trichy_cleaned.csv')"
   ]
  },
  {
   "cell_type": "code",
   "execution_count": null,
   "id": "4ad85845",
   "metadata": {},
   "outputs": [],
   "source": []
  },
  {
   "cell_type": "code",
   "execution_count": null,
   "id": "b3e1a00a",
   "metadata": {},
   "outputs": [],
   "source": []
  }
 ],
 "metadata": {
  "kernelspec": {
   "display_name": "Python 3 (ipykernel)",
   "language": "python",
   "name": "python3"
  },
  "language_info": {
   "codemirror_mode": {
    "name": "ipython",
    "version": 3
   },
   "file_extension": ".py",
   "mimetype": "text/x-python",
   "name": "python",
   "nbconvert_exporter": "python",
   "pygments_lexer": "ipython3",
   "version": "3.9.7"
  }
 },
 "nbformat": 4,
 "nbformat_minor": 5
}
